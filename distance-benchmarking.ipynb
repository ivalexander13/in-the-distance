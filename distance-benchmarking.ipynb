{
 "cells": [
  {
   "cell_type": "markdown",
   "id": "1379b455-035e-4746-97f7-79b2d4ebd246",
   "metadata": {},
   "source": [
    "## Setup"
   ]
  },
  {
   "cell_type": "code",
   "execution_count": 9,
   "id": "0a484343",
   "metadata": {},
   "outputs": [],
   "source": [
    "import networkx as nx\n",
    "import cassiopeia as cas\n",
    "import pandas as pd\n",
    "import pickle as pic\n",
    "from tqdm import tqdm\n",
    "import numpy as np\n",
    "import matplotlib.pyplot as plt\n",
    "\n",
    "# Base parameters, no fitness\n",
    "in_folder = \"/data/yosef2/users/richardz/projects/CassiopeiaV2-Reproducibility/trees/exponential_plus_c/400cells/no_fit/char40/\"\n",
    "out_folder = \"./benchmarking/\""
   ]
  },
  {
   "cell_type": "code",
   "execution_count": null,
   "id": "5bd9c12b",
   "metadata": {},
   "outputs": [],
   "source": [
    "# directory management\n"
   ]
  },
  {
   "cell_type": "code",
   "execution_count": 2,
   "id": "320597d6",
   "metadata": {},
   "outputs": [
    {
     "data": {
      "text/plain": [
       "array([[28, 32, 25, ...,  2, 43, 18],\n",
       "       [28, 32, 25, ...,  2, 43, 18],\n",
       "       [28, 32, 25, ...,  2, 43, 18],\n",
       "       ...,\n",
       "       [28, 32, 25, ...,  2, 43, 18],\n",
       "       [28, 32, 25, ...,  2, 43, 18],\n",
       "       [28, 32, 25, ...,  2, 43, 18]])"
      ]
     },
     "execution_count": 2,
     "metadata": {},
     "output_type": "execute_result"
    }
   ],
   "source": [
    "# Getting ground truth tree metrics for ONE tree\n",
    "i = 3\n",
    "ground_truth_filepath = in_folder + \"tree\" + str(i) + \".pkl\"\n",
    "tree = pic.load(open(\"/home/eecs/ivalexander13/datadir/simulation_data/trees/mutrate1/char10/states50/exponential_plus_c/cells2000/no_fit/tree1.pkl\", \"rb\"))\n",
    "\n",
    "tree.character_matrix = tree.character_matrix.replace(-2, -1) \n",
    "tree.character_matrix.values"
   ]
  },
  {
   "cell_type": "code",
   "execution_count": null,
   "id": "cbd0f8e2",
   "metadata": {},
   "outputs": [],
   "source": [
    "import numba, scipy"
   ]
  },
  {
   "cell_type": "code",
   "execution_count": 205,
   "id": "92705916",
   "metadata": {},
   "outputs": [
    {
     "data": {
      "text/plain": [
       "9.41014961595198"
      ]
     },
     "execution_count": 205,
     "metadata": {},
     "output_type": "execute_result"
    }
   ],
   "source": [
    "def logdet(\n",
    "    s1,\n",
    "    s2,\n",
    "    missing_state_indicator=-1,\n",
    "    weights = None,\n",
    ") -> float:\n",
    "    max_val: int = np.max([*s1, *s2])\n",
    "    out = np.zeros([max_val+1]*2)\n",
    "    for r, c in zip(s1, s2):\n",
    "        if r == missing_state_indicator or c == missing_state_indicator:\n",
    "            continue\n",
    "        out[r, c] += 1\n",
    "    out = out / np.max(out)\n",
    "    eigs = scipy.linalg.svd(out, compute_uv=False, check_finite=False)\n",
    "    eigs = np.log(eigs[eigs != 0])[:10]\n",
    "    logdet_hat = -np.sum(eigs)\n",
    "    \n",
    "    return logdet_hat\n",
    "logdet(tree.character_matrix.values[1], tree.character_matrix.values[20])"
   ]
  },
  {
   "cell_type": "code",
   "execution_count": 206,
   "id": "4cba2b80",
   "metadata": {},
   "outputs": [],
   "source": [
    "import itertools\n",
    "out = np.zeros([tree.character_matrix.shape[0]]*2)\n",
    "for r, c in itertools.combinations(range(tree.character_matrix.shape[0]), 2):\n",
    "    if r > 2: break\n",
    "    score = logdet(tree.character_matrix.values[c], tree.character_matrix.values[r])\n",
    "    out[r, c] = out[c, r] = score\n",
    "    \n",
    "dissim = pd.DataFrame(out, columns=tree.character_matrix.index, index=tree.character_matrix.index)"
   ]
  },
  {
   "cell_type": "code",
   "execution_count": 3,
   "id": "df878384-7de0-420a-a11b-c33d4af1c600",
   "metadata": {},
   "outputs": [],
   "source": [
    "# PARAM: Get computed dissimilarity matrix.\n",
    "tree.compute_dissimilarity_map(dissimilarity_function=cas.solver.dissimilarity_functions.hamming_similarity_normalized_over_missing)\n",
    "dissim = tree.get_dissimilarity_map()"
   ]
  },
  {
   "cell_type": "code",
   "execution_count": 4,
   "id": "017bd84b-a69e-4a94-86b6-c2ed7e5d0b64",
   "metadata": {},
   "outputs": [],
   "source": [
    "# get true distances\n",
    "dists = pd.DataFrame(columns=tree.leaves, index=tree.leaves)\n",
    "for leaf in tree.leaves:\n",
    "    dists[leaf] = tree.get_distances(leaf, leaves_only=True).values() # assume sorted"
   ]
  },
  {
   "cell_type": "code",
   "execution_count": 5,
   "id": "ce751897-f413-4724-9800-6c2a0381ba9d",
   "metadata": {},
   "outputs": [],
   "source": [
    "# PARAM: Get computed dissimilarity matrix.\n",
    "tree.set_dissimilarity_map(dists)"
   ]
  },
  {
   "cell_type": "code",
   "execution_count": 20,
   "id": "7b99e0a7-8724-4ae1-8352-84553b9b484a",
   "metadata": {},
   "outputs": [],
   "source": [
    "def melt_triu(dataf):\n",
    "    return np.fliplr(dataf.values)[np.triu_indices_from(dataf)]\n",
    "\n",
    "dissim_melt = melt_triu(tree.get_dissimilarity_map())\n",
    "dist_melt = melt_triu(dists)"
   ]
  },
  {
   "cell_type": "code",
   "execution_count": 21,
   "id": "43767a35",
   "metadata": {},
   "outputs": [
    {
     "data": {
      "text/plain": [
       "0.0"
      ]
     },
     "execution_count": 21,
     "metadata": {},
     "output_type": "execute_result"
    }
   ],
   "source": [
    "mse = (np.square(dissim_melt - dist_melt)).mean(axis=None)\n",
    "mse"
   ]
  },
  {
   "cell_type": "code",
   "execution_count": 22,
   "id": "f2d51835",
   "metadata": {},
   "outputs": [
    {
     "data": {
      "image/png": "[encoded data removed]",
      "text/plain": [
       "<Figure size 432x288 with 1 Axes>"
      ]
     },
     "metadata": {
      "needs_background": "light"
     },
     "output_type": "display_data"
    }
   ],
   "source": [
    "plt.hist(dissim_melt[dissim_melt >-1], bins=100);"
   ]
  },
  {
   "cell_type": "code",
   "execution_count": 23,
   "id": "fe093120-b8f5-42cf-a872-c0c933bf19e8",
   "metadata": {},
   "outputs": [
    {
     "data": {
      "image/png": "[encoded data removed]",
      "text/plain": [
       "<Figure size 432x288 with 1 Axes>"
      ]
     },
     "metadata": {
      "needs_background": "light"
     },
     "output_type": "display_data"
    }
   ],
   "source": [
    "import matplotlib.pyplot as plt\n",
    "plt.scatter(x=dist_melt, y=dissim_melt, alpha=0.01);\n",
    "plt.title('True Distance vs Exp Weighted Hamming Similarity')\n",
    "plt.xlabel('True Distance')\n",
    "plt.ylabel('Exp Weighted Hamming Similarity')\n",
    "linx = np.linspace(0, max(*dist_melt, *dissim_melt))\n",
    "# plt.plot(linx, -linx, 'red', alpha=0.3)\n",
    "plt.show();"
   ]
  },
  {
   "cell_type": "code",
   "execution_count": 24,
   "id": "a529ec2e-7758-46b3-a631-d419c473a478",
   "metadata": {},
   "outputs": [
    {
     "name": "stdout",
     "output_type": "stream",
     "text": [
      "Linear Coef: 1.0000000000019271\n"
     ]
    },
    {
     "data": {
      "image/png": "[encoded data removed]",
      "text/plain": [
       "<Figure size 432x288 with 1 Axes>"
      ]
     },
     "metadata": {
      "needs_background": "light"
     },
     "output_type": "display_data"
    }
   ],
   "source": [
    "#get the correlation\n",
    "from sklearn.linear_model import LinearRegression\n",
    "reg = LinearRegression(fit_intercept=False).fit(dissim_melt.reshape(-1, 1), dist_melt)\n",
    "plt.scatter(x=reg.predict(dissim_melt.reshape(-1, 1)), y=dist_melt, alpha=0.01);\n",
    "linx = np.linspace(0, max(*dist_melt, *dissim_melt))\n",
    "plt.plot(linx, linx, 'red', alpha=0.3)\n",
    "print(f\"Linear Coef: {reg.coef_[0]}\")"
   ]
  },
  {
   "cell_type": "code",
   "execution_count": 13,
   "id": "97f39016-3459-4e8f-ac30-d9679428f861",
   "metadata": {},
   "outputs": [],
   "source": [
    "# Try plotting |dist - dissim|"
   ]
  },
  {
   "cell_type": "code",
   "execution_count": 14,
   "id": "501a3535-c276-458e-930d-229a7cc1854a",
   "metadata": {},
   "outputs": [
    {
     "data": {
      "image/png": "[encoded data removed]",
      "text/plain": [
       "<Figure size 432x288 with 1 Axes>"
      ]
     },
     "metadata": {
      "needs_background": "light"
     },
     "output_type": "display_data"
    }
   ],
   "source": [
    "plt.hist(abs(dissim_melt - dist_melt), bins=50);\n",
    "\n",
    "# find e_min\n",
    "alldists = np.array(list(tree.get_distances(leaf, leaves_only=True).values()))\n",
    "alldists = alldists[alldists != 0]\n",
    "emin = min(alldists)\n",
    "\n",
    "plt.axvline(x=emin / 2, c='red')\n",
    "plt.title('| Distance - Weighted Hamming |, relative to e_min')\n",
    "plt.ylabel('Frequency')\n",
    "plt.xlabel('| Distance - Weighted Hamming |')\n",
    "plt.show();"
   ]
  },
  {
   "cell_type": "code",
   "execution_count": 15,
   "id": "f8ec7dd3-d180-4596-ab6d-2516c54454f4",
   "metadata": {},
   "outputs": [
    {
     "data": {
      "text/plain": [
       "0.1519086871228774"
      ]
     },
     "execution_count": 15,
     "metadata": {},
     "output_type": "execute_result"
    }
   ],
   "source": [
    "# Calculate Correlation\n",
    "np.corrcoef(dissim_melt, dist_melt)[0, 1]"
   ]
  },
  {
   "cell_type": "code",
   "execution_count": null,
   "id": "0b222f26-c563-4c19-8a41-343189c07e03",
   "metadata": {},
   "outputs": [],
   "source": []
  }
 ],
 "metadata": {
  "interpreter": {
   "hash": "989bf2b7e44e7c206b916b50602c69e7020cf6301b1edb8c0161d1773f69b7b7"
  },
  "kernelspec": {
   "display_name": "Python 3",
   "language": "python",
   "name": "python3"
  },
  "language_info": {
   "codemirror_mode": {
    "name": "ipython",
    "version": 3
   },
   "file_extension": ".py",
   "mimetype": "text/x-python",
   "name": "python",
   "nbconvert_exporter": "python",
   "pygments_lexer": "ipython3",
   "version": "3.6.13"
  }
 },
 "nbformat": 4,
 "nbformat_minor": 5
}
