{
 "cells": [
  {
   "cell_type": "code",
   "execution_count": 1,
   "metadata": {},
   "outputs": [],
   "source": [
    "%load_ext autoreload\n",
    "%autoreload 2"
   ]
  },
  {
   "cell_type": "code",
   "execution_count": 3,
   "metadata": {},
   "outputs": [],
   "source": [
    "import cassiopeia as cas\n",
    "import pandas as pd\n",
    "import numpy as np\n",
    "import sys\n",
    "\n",
    "sys.path.append('src/')\n",
    "from benchmark_modules import *\n",
    "from single_regime_boxplots import single_regime_boxplots\n",
    "\n",
    "# Base parameters, no fitness\n",
    "in_folder = \"/data/yosef2/users/richardz/projects/CassiopeiaV2-Reproducibility/trees/exponential_plus_c/400cells/no_fit/char40/\"\n",
    "out_folder = \"./data/\"\n",
    "plots_folder = \"./plots/\"\n",
    "\n",
    "# Alternative Data. Must re-implement get_cm() or use the class GroundTruthCMBM()\n",
    "in_folder_2 = \"/home/eecs/ivalexander13/datadir/simulation_data/trees4/exponential_plus_c/no_fit/cells400/mutrate0.5/char40/states100/\"\n",
    "in_folder_3 = \"/home/eecs/ivalexander13/datadir/simulation_data/trees4/exponential_plus_c/no_fit/cells2000/mutrate0.5/char40/states100/\"\n"
   ]
  },
  {
   "cell_type": "markdown",
   "metadata": {},
   "source": [
    "# NJ Plain"
   ]
  },
  {
   "cell_type": "code",
   "execution_count": 3,
   "metadata": {},
   "outputs": [
    {
     "name": "stderr",
     "output_type": "stream",
     "text": [
      "Skipping reconstruction 49: 100%|██████████| 50/50 [00:00<00:00, 535.45it/s]\n"
     ]
    }
   ],
   "source": [
    "nj_plain = BenchmarkModule(\n",
    "    test_name = \"nj_plain\",\n",
    "    gt_trees_dir = in_folder,\n",
    "    numtrees = 50,\n",
    "    out_basefolder = out_folder,\n",
    ")\n",
    "\n",
    "nj_plain.reconstruct(overwrite=False)\n",
    "nj_plain.evaluate(overwrite=False)"
   ]
  },
  {
   "cell_type": "markdown",
   "metadata": {},
   "source": [
    "# NJ Vanilla; 400 cells, no missing data, real time\n"
   ]
  },
  {
   "cell_type": "code",
   "execution_count": 16,
   "metadata": {},
   "outputs": [
    {
     "name": "stderr",
     "output_type": "stream",
     "text": [
      "Reconstructing tree 49: 100%|██████████| 50/50 [02:15<00:00,  2.71s/it]\n",
      "Evaluating tree 49: 100%|██████████| 50/50 [05:36<00:00,  6.73s/it]\n"
     ]
    }
   ],
   "source": [
    "nj_plain_2 = GroundTruthCMBM(\n",
    "    test_name = \"nj_plain_2\",\n",
    "    gt_trees_dir = in_folder_2,\n",
    "    numtrees = 50,\n",
    "    out_basefolder = out_folder,\n",
    ")\n",
    "\n",
    "nj_plain_2.reconstruct(overwrite=True)\n",
    "nj_plain_2.evaluate(overwrite=True)"
   ]
  },
  {
   "cell_type": "markdown",
   "metadata": {},
   "source": [
    "# SNJ Plain"
   ]
  },
  {
   "cell_type": "code",
   "execution_count": 35,
   "metadata": {},
   "outputs": [
    {
     "name": "stderr",
     "output_type": "stream",
     "text": [
      "Reconstructing tree 49: 100%|██████████| 50/50 [36:54<00:00, 44.30s/it]\n",
      "Evaluating tree 49: 100%|██████████| 50/50 [05:24<00:00,  6.49s/it]\n"
     ]
    }
   ],
   "source": [
    "snj_plain = BenchmarkModule(\n",
    "    test_name = \"snj_plain\",\n",
    "    solver=cas.solver.SpectralNeighborJoiningSolver(add_root = True),\n",
    "    numtrees=50,\n",
    "    gt_trees_dir = in_folder,\n",
    "    out_basefolder = out_folder,\n",
    ")\n",
    "\n",
    "snj_plain.reconstruct(overwrite=False, collapse_mutationless_edges=True)\n",
    "snj_plain.evaluate(overwrite=False)"
   ]
  },
  {
   "cell_type": "markdown",
   "metadata": {},
   "source": [
    "# NJ with Inverse WHD; 400 cells, with missing data, real time"
   ]
  },
  {
   "cell_type": "code",
   "execution_count": 17,
   "metadata": {},
   "outputs": [
    {
     "name": "stderr",
     "output_type": "stream",
     "text": [
      "Reconstructing tree 49: 100%|██████████| 50/50 [15:33<00:00, 18.67s/it]\n",
      "Evaluating tree 49: 100%|██████████| 50/50 [05:23<00:00,  6.47s/it]\n"
     ]
    }
   ],
   "source": [
    "nj_iwhd_1 = IWHDBenchmarkModule(\n",
    "    test_name = \"nj_iwhd_1\",\n",
    "    gt_trees_dir = in_folder,\n",
    "    numtrees=50,\n",
    "    out_basefolder = out_folder,\n",
    ")\n",
    "\n",
    "nj_iwhd_1.reconstruct(overwrite=False)\n",
    "nj_iwhd_1.evaluate(overwrite=False)"
   ]
  },
  {
   "cell_type": "markdown",
   "metadata": {},
   "source": [
    "# NJ with Inverse WHD; 400 cells, no missing data, real time"
   ]
  },
  {
   "cell_type": "markdown",
   "metadata": {},
   "source": [
    "Make sure to run the IWHDBenchmarkModule cell above"
   ]
  },
  {
   "cell_type": "code",
   "execution_count": 31,
   "metadata": {},
   "outputs": [
    {
     "name": "stderr",
     "output_type": "stream",
     "text": [
      "Reconstructing tree 49: 100%|██████████| 50/50 [26:13<00:00, 31.47s/it]\n",
      "Evaluating tree 49: 100%|██████████| 50/50 [05:24<00:00,  6.50s/it]\n"
     ]
    }
   ],
   "source": [
    "nj_iwhd_2 = IWHDBenchmarkModule(\n",
    "    test_name = \"nj_iwhd_2\",\n",
    "    gt_trees_dir = in_folder_2,\n",
    "    numtrees=50,\n",
    "    out_basefolder = out_folder,\n",
    ")\n",
    "\n",
    "nj_iwhd_2.reconstruct(overwrite=True)\n",
    "nj_iwhd_2.evaluate(overwrite=True)"
   ]
  },
  {
   "cell_type": "markdown",
   "metadata": {},
   "source": [
    "# NJ with Inverse WHD; 2000 cells, no missing data, real time"
   ]
  },
  {
   "cell_type": "code",
   "execution_count": null,
   "metadata": {},
   "outputs": [],
   "source": [
    "in_folder_iwhd_3 = \"/home/eecs/ivalexander13/datadir/simulation_data/trees4/exponential_plus_c/no_fit/cells2000/mutrate0.5/char40/states100/\"\n",
    "\n",
    "nj_iwhd_3 = IWHDBenchmarkModule(\n",
    "    test_name = \"nj_iwhd_3\",\n",
    "    gt_trees_dir = in_folder_2,\n",
    "    numtrees=50,\n",
    "    out_basefolder = out_folder,\n",
    ")\n",
    "\n",
    "nj_iwhd_3.reconstruct(overwrite=False)\n",
    "nj_iwhd_3.evaluate(overwrite=False)"
   ]
  },
  {
   "cell_type": "markdown",
   "metadata": {},
   "source": [
    "# NJ with True Distance"
   ]
  },
  {
   "cell_type": "code",
   "execution_count": 34,
   "metadata": {},
   "outputs": [
    {
     "name": "stderr",
     "output_type": "stream",
     "text": [
      "Reconstructing tree 49: 100%|██████████| 50/50 [52:43<00:00, 63.26s/it]\n",
      "Evaluating tree 49: 100%|██████████| 50/50 [05:29<00:00,  6.59s/it]\n"
     ]
    }
   ],
   "source": [
    "nj_true_dist = TrueDistBM(\n",
    "    test_name = \"nj_true_dist\",\n",
    "    solver=cas.solver.SpectralNeighborJoiningSolver(add_root = True),\n",
    "    numtrees=50,\n",
    "    gt_trees_dir = in_folder,\n",
    "    out_basefolder = out_folder,\n",
    ")\n",
    "\n",
    "nj_true_dist.reconstruct(overwrite=True, collapse_mutationless_edges=False)\n",
    "nj_true_dist.evaluate(overwrite=True)"
   ]
  },
  {
   "cell_type": "markdown",
   "metadata": {},
   "source": [
    "# SNJ with Exp True Distance"
   ]
  },
  {
   "cell_type": "code",
   "execution_count": 33,
   "metadata": {},
   "outputs": [
    {
     "name": "stderr",
     "output_type": "stream",
     "text": [
      "Reconstructing tree 49: 100%|██████████| 50/50 [52:47<00:00, 63.36s/it]\n",
      "Evaluating tree 49: 100%|██████████| 50/50 [05:25<00:00,  6.51s/it]\n"
     ]
    }
   ],
   "source": [
    "snj_true_dist = TrueDistBM(\n",
    "    test_name = \"snj_true_dist\",\n",
    "    solver=cas.solver.SpectralNeighborJoiningSolver(add_root = True),\n",
    "    gt_trees_dir = in_folder,\n",
    "    numtrees=50,\n",
    "    out_basefolder = out_folder,\n",
    ")\n",
    "\n",
    "snj_true_dist.reconstruct(overwrite=True, collapse_mutationless_edges=False)\n",
    "snj_true_dist.evaluate(overwrite=True)"
   ]
  },
  {
   "cell_type": "markdown",
   "metadata": {},
   "source": [
    "# NJ Yaffe"
   ]
  },
  {
   "cell_type": "code",
   "execution_count": null,
   "metadata": {},
   "outputs": [],
   "source": [
    "nj_yaffe = NJYaffeBM(\n",
    "    test_name = \"nj_yaffe\",\n",
    "    numtrees=50,\n",
    "    gt_trees_dir = in_folder,\n",
    "    out_basefolder = out_folder,\n",
    ")\n",
    "\n",
    "nj_yaffe.reconstruct(overwrite=True, collapse_mutationless_edges=True)\n",
    "nj_yaffe.evaluate(overwrite=True)"
   ]
  },
  {
   "cell_type": "markdown",
   "metadata": {},
   "source": [
    "# SNJ Yaffe"
   ]
  },
  {
   "cell_type": "code",
   "execution_count": null,
   "metadata": {},
   "outputs": [],
   "source": [
    "snj_yaffe = SNJYaffeBM(\n",
    "    test_name = \"snj_yaffe\",\n",
    "    numtrees=50,\n",
    "    gt_trees_dir = in_folder,\n",
    "    out_basefolder = out_folder,\n",
    ")\n",
    "\n",
    "snj_yaffe.reconstruct(overwrite=True)\n",
    "snj_yaffe.evaluate(overwrite=True)"
   ]
  },
  {
   "cell_type": "markdown",
   "metadata": {},
   "source": [
    "# STDR Yaffe"
   ]
  },
  {
   "cell_type": "code",
   "execution_count": null,
   "metadata": {},
   "outputs": [],
   "source": [
    "stdr_yaffe = STDRYaffeBM(\n",
    "    test_name = \"stdr_yaffe\",\n",
    "    numtrees=50,\n",
    "    gt_trees_dir = in_folder,\n",
    "    out_basefolder = out_folder,\n",
    ")\n",
    "\n",
    "stdr_yaffe.reconstruct(overwrite=True, collapse_mutationless_edges=True)\n",
    "stdr_yaffe.evaluate(overwrite=True)"
   ]
  },
  {
   "cell_type": "markdown",
   "metadata": {},
   "source": [
    "# Plotting"
   ]
  },
  {
   "cell_type": "code",
   "execution_count": 19,
   "metadata": {},
   "outputs": [
    {
     "data": {
      "text/plain": [
       "<Figure size 432x288 with 0 Axes>"
      ]
     },
     "metadata": {},
     "output_type": "display_data"
    },
    {
     "data": {
      "image/png": "[encoded data removed]",
      "text/plain": [
       "<Figure size 720x288 with 1 Axes>"
      ]
     },
     "metadata": {
      "needs_background": "light"
     },
     "output_type": "display_data"
    },
    {
     "data": {
      "text/plain": [
       "<Figure size 432x288 with 0 Axes>"
      ]
     },
     "metadata": {},
     "output_type": "display_data"
    },
    {
     "data": {
      "image/png": "[encoded data removed]",
      "text/plain": [
       "<Figure size 720x288 with 1 Axes>"
      ]
     },
     "metadata": {
      "needs_background": "light"
     },
     "output_type": "display_data"
    },
    {
     "data": {
      "text/plain": [
       "('./plots/RF.benchmark.png', './plots/triplets.benchmark.png')"
      ]
     },
     "execution_count": 19,
     "metadata": {},
     "output_type": "execute_result"
    }
   ],
   "source": [
    "# Params\n",
    "stubs2names = [\n",
    "    (\"nj_true_dist\", \"NJ TrueDist\"),\n",
    "    (\"nj_plain\", \"NJ Vanilla\"),\n",
    "    (\"nj_iwhd_1\", \"NJ iWHD: 400 cells, const time, w/ missing data\"),\n",
    "    (\"nj_plain_2\", \"NJ Vanilla: 400 cells, real time, w/o missing data\"),\n",
    "    (\"nj_iwhd_2\", \"NJ iWHD: 400 cells, real time, w/o missing data\"),\n",
    "    # (\"nj_iwhd_3\", \"NJ iWHD: 2000 cells, real time, w/o missing data\"),\n",
    "    (\"nj_yaffe\", \"NJ Yaffe\"),\n",
    "    (\"snj_plain\", \"SNJ Vanilla\"),\n",
    "    # (\"snj_true_dist\", \"SNJ TrueDist\"),\n",
    "    # (\"snj_yaffe\", \"SNJ Yaffe\"),\n",
    "    # (\"stdr_yaffe\", \"STDR Yaffe\"),\n",
    "]\n",
    "\n",
    "single_regime_boxplots(stubs2names, out_folder=out_folder, plots_folder=plots_folder, plot_file_suffix=\"benchmark\")"
   ]
  },
  {
   "cell_type": "code",
   "execution_count": null,
   "metadata": {},
   "outputs": [],
   "source": []
  }
 ],
 "metadata": {
  "kernelspec": {
   "display_name": "Python 3",
   "language": "python",
   "name": "python3"
  },
  "language_info": {
   "codemirror_mode": {
    "name": "ipython",
    "version": 3
   },
   "file_extension": ".py",
   "mimetype": "text/x-python",
   "name": "python",
   "nbconvert_exporter": "python",
   "pygments_lexer": "ipython3",
   "version": "3.6.13"
  }
 },
 "nbformat": 4,
 "nbformat_minor": 4
}
