{
 "cells": [
  {
   "cell_type": "code",
   "execution_count": 59,
   "metadata": {},
   "outputs": [],
   "source": [
    "import numpy as np\n",
    "import pickle as pic\n",
    "import os\n",
    "from tqdm.auto import tqdm\n",
    "import json\n",
    "from pathlib import Path\n",
    "import matplotlib.pyplot as plt\n",
    "\n",
    "from cassiopeia.simulator.TreeSimulator import TreeSimulatorError\n",
    "from cassiopeia.simulator.BirthDeathFitnessSimulator import (\n",
    "    BirthDeathFitnessSimulator,\n",
    ")\n",
    "from cassiopeia.simulator.UniformLeafSubsampler import UniformLeafSubsampler\n"
   ]
  },
  {
   "cell_type": "code",
   "execution_count": 60,
   "metadata": {},
   "outputs": [
    {
     "data": {
      "text/plain": [
       "{'mutation_proportions': [0.01, 0.1, 0.5, 0.6, 0.7],\n",
       " 'numcassettes': [10, 20, 40, 100],\n",
       " 'numstates': [1, 10, 50, 100],\n",
       " 'topologies': ['exponential_plus_c'],\n",
       " 'num_trees': 50,\n",
       " 'numcells': 400,\n",
       " 'fitness_regimes': ['no_fit'],\n",
       " 'top_dir': '/home/eecs/ivalexander13/datadir/simulation_data/topologies/{topology}/{fitness_regime}/cells{numcells}/',\n",
       " 'tree_dir': '/home/eecs/ivalexander13/datadir/simulation_data/trees4/exponential_plus_c/no_fit/cells400/mutrate{mutation_proportions}/char{numcassettes}/states{numstates}/',\n",
       " 'seed_dir': '/home/eecs/ivalexander13/datadir/simulation_data/seeds/'}"
      ]
     },
     "execution_count": 60,
     "metadata": {},
     "output_type": "execute_result"
    }
   ],
   "source": [
    "# load config\n",
    "with open('config.json', 'r') as f:\n",
    "    config = json.load(f)\n",
    "config"
   ]
  },
  {
   "cell_type": "code",
   "execution_count": 61,
   "metadata": {},
   "outputs": [],
   "source": [
    "def estimate_birth_death_rate_ml_stem(t, n, e):\n",
    "    r = np.log(n)/t\n",
    "    return r/(1-e), r/(1-e) * e\n",
    "\n",
    "def estimate_birth_death_rate_mom_stem(t, n, e):\n",
    "    r = np.log(n * (1 - e) + e)/t\n",
    "    return r/(1-e), r/(1-e) * e\n",
    "\n",
    "def generate_topology(\n",
    "    birth_waiting_distribution,\n",
    "    initial_birth_scale,\n",
    "    death_waiting_distribution,\n",
    "    mutation_distribution,\n",
    "    fitness_distribution,\n",
    "    fitness_base,\n",
    "    total_time,\n",
    "    ratio, #subsampling ratio\n",
    "    top_path, #the path in which to save the tree\n",
    "    seed = None, #optional seed\n",
    "    seen_seeds = [] #records which seeds have been seed in order to prevent duplicates\n",
    "):\n",
    "    \n",
    "    # If we generate a tree that is smaller than `num_extant` * subsampling ratio,\n",
    "    # or if we generate a tree that dies before the stopping condition, \n",
    "    # we need to generate again. If a seed is passed, we need to increment the seed\n",
    "    # until we find a seed that procudes a valid tree. This final seed is returned.\n",
    "    size = 0\n",
    "    if seed is not None:\n",
    "        seed -= 1\n",
    "    while size <= 0:\n",
    "        if seed is not None:\n",
    "            seed += 1\n",
    "            while seed in seen_seeds:\n",
    "                seed += 1\n",
    "        try:\n",
    "            bd_sim = BirthDeathFitnessSimulator(\n",
    "                birth_waiting_distribution = birth_waiting_distribution,\n",
    "                initial_birth_scale = initial_birth_scale,\n",
    "                death_waiting_distribution = death_waiting_distribution,\n",
    "                mutation_distribution = mutation_distribution,\n",
    "                fitness_distribution = fitness_distribution,\n",
    "                fitness_base = fitness_base,\n",
    "                experiment_time = total_time,\n",
    "                random_seed = seed\n",
    "            )\n",
    "            topology = bd_sim.simulate_tree()\n",
    "            size = topology.n_cell\n",
    "        except TreeSimulatorError:\n",
    "            size = 0\n",
    "            \n",
    "    # Subsample, collapse from the root child in order to preserve hanging edge from root\n",
    "    root_child = topology.children(topology.root)[0]\n",
    "    if ratio < 1:\n",
    "        subsampler = UniformLeafSubsampler(ratio = ratio)\n",
    "        topology = subsampler.subsample_leaves(tree=topology, keep_singular_root_edge=True)\n",
    "    topology.relabel_nodes(dict(zip(topology.leaves, [\"c\" + i for i in topology.leaves])))\n",
    "    \n",
    "    # Saves the tree at the specified path, returns relevant tree stats\n",
    "    size = topology.n_cell\n",
    "    pic.dump(topology, open(top_path, 'wb'))\n",
    "    \n",
    "    # Returning\n",
    "    if seed is not None:\n",
    "        return size, seed\n",
    "    else:\n",
    "        return size"
   ]
  },
  {
   "cell_type": "code",
   "execution_count": 78,
   "metadata": {},
   "outputs": [
    {
     "name": "stdout",
     "output_type": "stream",
     "text": [
      "Output path: /home/eecs/ivalexander13/datadir/simulation_data/topologies/exponential_plus_c/no_fit/cells2000/\n"
     ]
    },
    {
     "data": {
      "application/vnd.jupyter.widget-view+json": {
       "model_id": "46a134f675e8427b9d213c6d67c20dd6",
       "version_major": 2,
       "version_minor": 0
      },
      "text/plain": [
       "  0%|          | 0/50 [00:00<?, ?it/s]"
      ]
     },
     "metadata": {},
     "output_type": "display_data"
    },
    {
     "name": "stdout",
     "output_type": "stream",
     "text": [
      "Running mean, median size: 1987.14, 1758.0\r"
     ]
    },
    {
     "data": {
      "text/plain": [
       "(1987.14, 1758.0)"
      ]
     },
     "execution_count": 78,
     "metadata": {},
     "output_type": "execute_result"
    },
    {
     "data": {
      "image/png": "[encoded data removed]",
      "text/plain": [
       "<Figure size 432x288 with 1 Axes>"
      ]
     },
     "metadata": {
      "needs_background": "light"
     },
     "output_type": "display_data"
    }
   ],
   "source": [
    "top_folder = config['top_dir']\n",
    "seed_path = os.path.join(config['seed_dir'], '030922.sim_topology.txt')\n",
    "num_topologies = 50 #config['num_trees']\n",
    "topology_name = config['topologies'][0]\n",
    "ratio = 0.2\n",
    "n_leaves = None\n",
    "num_extant = 2000 #config['numcells']\n",
    "\n",
    "exp_time = 1\n",
    "t = 0.69 - 0.02 * np.log2(2000)\n",
    "c = 0.02\n",
    "fitness_regimes = {\n",
    "    \"no_fit\": (None, None, None)\n",
    "}\n",
    "\n",
    "\n",
    "birth_waiting_distribution = lambda scale: np.random.exponential(scale) + c\n",
    "initial_birth_rate, death_rate = estimate_birth_death_rate_ml_stem(t, num_extant, 0.1)\n",
    "initial_birth_scale = 1/initial_birth_rate\n",
    "death_waiting_distribution = lambda: np.random.exponential(1/death_rate + c)\n",
    "\n",
    "seen_seeds = []\n",
    "sizes = []\n",
    "for fitness in fitness_regimes:\n",
    "    mutation_distribution, fitness_distribution, fitness_base = fitness_regimes[fitness]\n",
    "    top_path =  top_folder.format(\n",
    "        topology=topology_name,\n",
    "        time=exp_time,\n",
    "        fitness_regime=fitness,\n",
    "        numcells=num_extant\n",
    "    )\n",
    "    print(f'Output path: {top_path}')\n",
    "    if os.path.exists(top_path) == False:\n",
    "        Path(top_path).mkdir(parents=True, exist_ok=True)\n",
    "    seeds = np.random.choice(range(1000000), num_topologies, replace = False)\n",
    "\n",
    "    for num in tqdm(range(num_topologies)):\n",
    "        seed = seeds[num]\n",
    "        size, final_seed = generate_topology(\n",
    "            birth_waiting_distribution = birth_waiting_distribution,\n",
    "            initial_birth_scale = initial_birth_scale,\n",
    "            death_waiting_distribution = death_waiting_distribution,\n",
    "            mutation_distribution = mutation_distribution,\n",
    "            fitness_distribution = fitness_distribution,\n",
    "            fitness_base = fitness_base,\n",
    "            total_time = 1,\n",
    "            ratio = ratio,\n",
    "            top_path = top_path + \"topology\" + str(num) + \".pkl\",\n",
    "            seed = seed,\n",
    "            seen_seeds = seen_seeds\n",
    "        )\n",
    "        seen_seeds.append(final_seed)\n",
    "        sizes.append(size)\n",
    "\n",
    "        # seed record\n",
    "        Path(os.path.dirname(seed_path)).mkdir(parents=True, exist_ok=True)\n",
    "        f = open(seed_path, \"a\")\n",
    "        f.write(str(num_extant) + \"\\t\" + fitness + \"\\t\" + str(num) + \"\\t\" + str(final_seed) + \"\\n\")\n",
    "        f.close()\n",
    "\n",
    "        # Print stat\n",
    "        print(f'Running mean, median size: {np.round(np.mean(sizes), 2)}, {np.round(np.median(sizes), 2)}', end='\\r')\n",
    "\n",
    "plt.hist(sizes, bins=50);\n",
    "np.mean(sizes), np.median(sizes)"
   ]
  },
  {
   "cell_type": "code",
   "execution_count": null,
   "metadata": {},
   "outputs": [],
   "source": []
  },
  {
   "cell_type": "code",
   "execution_count": null,
   "metadata": {},
   "outputs": [],
   "source": []
  }
 ],
 "metadata": {
  "interpreter": {
   "hash": "989bf2b7e44e7c206b916b50602c69e7020cf6301b1edb8c0161d1773f69b7b7"
  },
  "kernelspec": {
   "display_name": "Python 3",
   "language": "python",
   "name": "python3"
  },
  "language_info": {
   "codemirror_mode": {
    "name": "ipython",
    "version": 3
   },
   "file_extension": ".py",
   "mimetype": "text/x-python",
   "name": "python",
   "nbconvert_exporter": "python",
   "pygments_lexer": "ipython3",
   "version": "3.6.13"
  }
 },
 "nbformat": 4,
 "nbformat_minor": 4
}
