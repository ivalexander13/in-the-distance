{
 "cells": [
  {
   "cell_type": "code",
   "execution_count": 8,
   "metadata": {},
   "outputs": [],
   "source": [
    "import numpy as np\n",
    "import networkx as nx\n",
    "import pickle as pic\n",
    "import os\n",
    "from scipy import interpolate\n",
    "from IPython.display import Image\n",
    "from tqdm.auto import tqdm\n",
    "import json\n",
    "from pathlib import Path\n",
    "\n",
    "# import time\n",
    "\n",
    "from cassiopeia.data.CassiopeiaTree import CassiopeiaTree\n",
    "from cassiopeia.simulator.TreeSimulator import TreeSimulatorError\n",
    "from cassiopeia.simulator.BirthDeathFitnessSimulator import (\n",
    "    BirthDeathFitnessSimulator,\n",
    ")\n",
    "from cassiopeia.simulator.UniformLeafSubsampler import UniformLeafSubsampler\n"
   ]
  },
  {
   "cell_type": "code",
   "execution_count": 3,
   "metadata": {},
   "outputs": [],
   "source": [
    "# load config\n",
    "with open('config.json', 'r') as f:\n",
    "    config = json.load(f)"
   ]
  },
  {
   "cell_type": "code",
   "execution_count": 65,
   "metadata": {},
   "outputs": [],
   "source": [
    "def estimate_birth_death_rate_ml_stem(t, n, e):\n",
    "    r = np.log(n)/t\n",
    "    return r/(1-e), r/(1-e) * e\n",
    "\n",
    "def estimate_birth_death_rate_mom_stem(t, n, e):\n",
    "    r = np.log(n * (1 - e) + e)/t\n",
    "    return r/(1-e), r/(1-e) * e\n",
    "\n",
    "def generate_topology(\n",
    "    birth_waiting_distribution,\n",
    "    initial_birth_scale,\n",
    "    death_waiting_distribution,\n",
    "    mutation_distribution,\n",
    "    fitness_distribution,\n",
    "    fitness_base,\n",
    "    total_time,\n",
    "    ratio, #subsampling ratio\n",
    "    top_path, #the path in which to save the tree\n",
    "    seed = None, #optional seed\n",
    "    seen_seeds = [] #records which seeds have been seed in order to prevent duplicates\n",
    "):\n",
    "    \n",
    "    # If we generate a tree that is smaller than `num_extant` * subsampling ratio,\n",
    "    # or if we generate a tree that dies before the stopping condition, \n",
    "    # we need to generate again. If a seed is passed, we need to increment the seed\n",
    "    # until we find a seed that procudes a valid tree. This final seed is returned.\n",
    "    size = 0\n",
    "    if seed is not None:\n",
    "        seed -= 1\n",
    "    while size <= 0:\n",
    "        if seed is not None:\n",
    "            seed += 1\n",
    "            while seed in seen_seeds:\n",
    "                seed += 1\n",
    "        try:\n",
    "            bd_sim = BirthDeathFitnessSimulator(\n",
    "                birth_waiting_distribution = birth_waiting_distribution,\n",
    "                initial_birth_scale = initial_birth_scale,\n",
    "                death_waiting_distribution = death_waiting_distribution,\n",
    "                mutation_distribution = mutation_distribution,\n",
    "                fitness_distribution = fitness_distribution,\n",
    "                fitness_base = fitness_base,\n",
    "                experiment_time = total_time,\n",
    "                random_seed = seed\n",
    "            )\n",
    "            topology = bd_sim.simulate_tree()\n",
    "            size = topology.n_cell\n",
    "        except TreeSimulatorError:\n",
    "            size = 0\n",
    "            \n",
    "    # Subsample, collapse from the root child in order to preserve hanging edge from root\n",
    "    root_child = topology.children(topology.root)[0]\n",
    "    if ratio < 1:\n",
    "        subsampler = UniformLeafSubsampler(ratio = ratio)\n",
    "        topology = subsampler.subsample_leaves(tree=topology, keep_singular_root_edge=True)\n",
    "    topology.relabel_nodes(dict(zip(topology.leaves, [\"c\" + i for i in topology.leaves])))\n",
    "    \n",
    "    # Saves the tree at the specified path, returns relevant tree stats\n",
    "    pic.dump(topology, open(top_path, 'wb'))\n",
    "    if seed is not None:\n",
    "        return size, seed\n",
    "    else:\n",
    "        return size"
   ]
  },
  {
   "cell_type": "code",
   "execution_count": 97,
   "metadata": {},
   "outputs": [
    {
     "name": "stdout",
     "output_type": "stream",
     "text": [
      "no_fit\n",
      "/home/eecs/ivalexander13/datadir/simulation_data/topologies/exponential_plus_c/time1/no_fit/\n"
     ]
    },
    {
     "data": {
      "application/vnd.jupyter.widget-view+json": {
       "model_id": "b4964b08d90c4a679aed8598e498f4fb",
       "version_major": 2,
       "version_minor": 0
      },
      "text/plain": [
       "  0%|          | 0/50 [00:00<?, ?it/s]"
      ]
     },
     "metadata": {},
     "output_type": "display_data"
    }
   ],
   "source": [
    "top_folder = config['top_dir']\n",
    "seed_path = os.path.join(config['seed_dir'], '030922.sim_topology.txt')\n",
    "num_topologies = 50 #config['num_trees']\n",
    "topology_name = config['topologies'][0]\n",
    "ratio = 0.2\n",
    "n_leaves = None\n",
    "num_extant = 400\n",
    "\n",
    "exp_time = config['time']\n",
    "t = 0.935 - 0.02 * np.log2(2000)\n",
    "c = 0.02\n",
    "fitness_regimes = {\n",
    "    \"no_fit\": (None, None, None)\n",
    "}\n",
    "\n",
    "\n",
    "birth_waiting_distribution = lambda scale: np.random.exponential(scale) + c\n",
    "initial_birth_rate, death_rate = estimate_birth_death_rate_ml_stem(t, num_extant, 0.1)\n",
    "initial_birth_scale = 1/initial_birth_rate\n",
    "death_waiting_distribution = lambda: np.random.exponential(1/death_rate + c)\n",
    "\n",
    "seen_seeds = []\n",
    "for fitness in fitness_regimes:\n",
    "    print(fitness)\n",
    "    mutation_distribution, fitness_distribution, fitness_base = fitness_regimes[fitness]\n",
    "    top_path =  top_folder.format(\n",
    "        topology=topology_name,\n",
    "        time=exp_time,\n",
    "        fitness_regime=fitness\n",
    "    )\n",
    "    print(top_path)\n",
    "    if os.path.exists(top_path) == False:\n",
    "        Path(top_path).mkdir(parents=True, exist_ok=True)\n",
    "    seeds = np.random.choice(range(1000000), num_topologies, replace = False)\n",
    "    sizes = []\n",
    "    for num in tqdm(range(num_topologies)):\n",
    "        seed = seeds[num]\n",
    "        size, final_seed = generate_topology(\n",
    "            birth_waiting_distribution = birth_waiting_distribution,\n",
    "            initial_birth_scale = initial_birth_scale,\n",
    "            death_waiting_distribution = death_waiting_distribution,\n",
    "            mutation_distribution = mutation_distribution,\n",
    "            fitness_distribution = fitness_distribution,\n",
    "            fitness_base = fitness_base,\n",
    "            total_time = 1,\n",
    "            ratio = ratio,\n",
    "            top_path = top_path + \"topology\" + str(num) + \".pkl\",\n",
    "            seed = seed,\n",
    "            seen_seeds = seen_seeds\n",
    "        )\n",
    "        seen_seeds.append(final_seed)\n",
    "        sizes.append(size)\n",
    "\n",
    "        # seed record\n",
    "        Path(os.path.dirname(seed_path)).mkdir(parents=True, exist_ok=True)\n",
    "        f = open(seed_path, \"a\")\n",
    "        f.write(str(num_extant) + \"\\t\" + fitness + \"\\t\" + str(num) + \"\\t\" + str(final_seed) + \"\\n\")\n",
    "        f.close()\n",
    "        # print(num, size)"
   ]
  },
  {
   "cell_type": "code",
   "execution_count": 98,
   "metadata": {},
   "outputs": [
    {
     "data": {
      "text/plain": [
       "(388.02, 333.0)"
      ]
     },
     "execution_count": 98,
     "metadata": {},
     "output_type": "execute_result"
    },
    {
     "data": {
      "image/png": "[encoded data removed]",
      "text/plain": [
       "<Figure size 432x288 with 1 Axes>"
      ]
     },
     "metadata": {
      "needs_background": "light"
     },
     "output_type": "display_data"
    }
   ],
   "source": [
    "import matplotlib.pyplot as plt\n",
    "\n",
    "plt.hist(sizes, bins=50);\n",
    "np.mean(sizes), np.median(sizes)"
   ]
  },
  {
   "cell_type": "code",
   "execution_count": null,
   "metadata": {},
   "outputs": [],
   "source": []
  },
  {
   "cell_type": "code",
   "execution_count": null,
   "metadata": {},
   "outputs": [],
   "source": []
  }
 ],
 "metadata": {
  "interpreter": {
   "hash": "989bf2b7e44e7c206b916b50602c69e7020cf6301b1edb8c0161d1773f69b7b7"
  },
  "kernelspec": {
   "display_name": "Python 3.6.13 ('cass': conda)",
   "language": "python",
   "name": "python3"
  },
  "language_info": {
   "codemirror_mode": {
    "name": "ipython",
    "version": 3
   },
   "file_extension": ".py",
   "mimetype": "text/x-python",
   "name": "python",
   "nbconvert_exporter": "python",
   "pygments_lexer": "ipython3",
   "version": "3.6.13"
  },
  "orig_nbformat": 4
 },
 "nbformat": 4,
 "nbformat_minor": 2
}
